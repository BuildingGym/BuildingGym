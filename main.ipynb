{
 "cells": [
  {
   "cell_type": "markdown",
   "metadata": {
    "slideshow": {
     "slide_type": "slide"
    }
   },
   "source": [
    "Kickstart the simulation."
   ]
  },
  {
   "cell_type": "code",
   "execution_count": 1,
   "metadata": {},
   "outputs": [
    {
     "name": "stdout",
     "output_type": "stream",
     "text": [
      "Looking in indexes: https://pypi.org/simple, https://pypi.nvidia.com, https://test.pypi.org/simple\n",
      "Processing /home/user@AD/lab/EnergyPlus-OOEP\n",
      "  Installing build dependencies ... \u001b[?25ldone\n",
      "\u001b[?25h  Getting requirements to build wheel ... \u001b[?25ldone\n",
      "\u001b[?25h  Installing backend dependencies ... \u001b[?25ldone\n",
      "\u001b[?25h  Preparing metadata (pyproject.toml) ... \u001b[?25ldone\n",
      "\u001b[?25hRequirement already satisfied: energyplus-core in ./.venv/lib/python3.11/site-packages (from energyplus-ooep==0.0.post1.dev16+ge7e43b9) (0.1.0a0)\n",
      "Building wheels for collected packages: energyplus-ooep\n",
      "  Building wheel for energyplus-ooep (pyproject.toml) ... \u001b[?25ldone\n",
      "\u001b[?25h  Created wheel for energyplus-ooep: filename=energyplus_ooep-0.0.post1.dev16+ge7e43b9-py3-none-any.whl size=31682 sha256=5355c2a2f8b5e5e1cf66bc378cf2a79ae036e464520da5f606f8784e8612777b\n",
      "  Stored in directory: /home/user@AD/.cache/pip/wheels/16/f9/7c/4f4cbae4f9bac45a57e6927307e3d5abdc8afb7240c9c634ff\n",
      "Successfully built energyplus-ooep\n",
      "Installing collected packages: energyplus-ooep\n",
      "  Attempting uninstall: energyplus-ooep\n",
      "    Found existing installation: energyplus-ooep 0.0.post1.dev16+ge7e43b9\n",
      "    Uninstalling energyplus-ooep-0.0.post1.dev16+ge7e43b9:\n",
      "      Successfully uninstalled energyplus-ooep-0.0.post1.dev16+ge7e43b9\n",
      "Successfully installed energyplus-ooep-0.0.post1.dev16+ge7e43b9\n",
      "Note: you may need to restart the kernel to use updated packages.\n",
      "Looking in indexes: https://pypi.org/simple, https://pypi.nvidia.com\n",
      "Requirement already satisfied: gymnasium in ./.venv/lib/python3.11/site-packages (0.28.1)\n",
      "Requirement already satisfied: torch in ./.venv/lib/python3.11/site-packages (2.2.2)\n",
      "Requirement already satisfied: tqdm in ./.venv/lib/python3.11/site-packages (4.66.2)\n",
      "Requirement already satisfied: ray[rllib] in ./.venv/lib/python3.11/site-packages (2.11.0)\n",
      "Requirement already satisfied: numpy>=1.21.0 in ./.venv/lib/python3.11/site-packages (from gymnasium) (1.26.4)\n",
      "Requirement already satisfied: jax-jumpy>=1.0.0 in ./.venv/lib/python3.11/site-packages (from gymnasium) (1.0.0)\n",
      "Requirement already satisfied: cloudpickle>=1.2.0 in ./.venv/lib/python3.11/site-packages (from gymnasium) (3.0.0)\n",
      "Requirement already satisfied: typing-extensions>=4.3.0 in ./.venv/lib/python3.11/site-packages (from gymnasium) (4.11.0)\n",
      "Requirement already satisfied: farama-notifications>=0.0.1 in ./.venv/lib/python3.11/site-packages (from gymnasium) (0.0.4)\n",
      "Requirement already satisfied: click>=7.0 in ./.venv/lib/python3.11/site-packages (from ray[rllib]) (8.1.7)\n",
      "Requirement already satisfied: filelock in ./.venv/lib/python3.11/site-packages (from ray[rllib]) (3.13.4)\n",
      "Requirement already satisfied: jsonschema in ./.venv/lib/python3.11/site-packages (from ray[rllib]) (4.21.1)\n",
      "Requirement already satisfied: msgpack<2.0.0,>=1.0.0 in ./.venv/lib/python3.11/site-packages (from ray[rllib]) (1.0.8)\n",
      "Requirement already satisfied: packaging in ./.venv/lib/python3.11/site-packages (from ray[rllib]) (24.0)\n",
      "Requirement already satisfied: protobuf!=3.19.5,>=3.15.3 in ./.venv/lib/python3.11/site-packages (from ray[rllib]) (5.26.1)\n",
      "Requirement already satisfied: pyyaml in ./.venv/lib/python3.11/site-packages (from ray[rllib]) (6.0.1)\n",
      "Requirement already satisfied: aiosignal in ./.venv/lib/python3.11/site-packages (from ray[rllib]) (1.3.1)\n",
      "Requirement already satisfied: frozenlist in ./.venv/lib/python3.11/site-packages (from ray[rllib]) (1.4.1)\n",
      "Requirement already satisfied: requests in ./.venv/lib/python3.11/site-packages (from ray[rllib]) (2.31.0)\n",
      "Requirement already satisfied: pandas in ./.venv/lib/python3.11/site-packages (from ray[rllib]) (2.2.2)\n",
      "Requirement already satisfied: tensorboardX>=1.9 in ./.venv/lib/python3.11/site-packages (from ray[rllib]) (2.6.2.2)\n",
      "Requirement already satisfied: pyarrow>=6.0.1 in ./.venv/lib/python3.11/site-packages (from ray[rllib]) (16.0.0)\n",
      "Requirement already satisfied: fsspec in ./.venv/lib/python3.11/site-packages (from ray[rllib]) (2024.3.1)\n",
      "Requirement already satisfied: dm-tree in ./.venv/lib/python3.11/site-packages (from ray[rllib]) (0.1.8)\n",
      "Requirement already satisfied: lz4 in ./.venv/lib/python3.11/site-packages (from ray[rllib]) (4.3.3)\n",
      "Requirement already satisfied: scikit-image in ./.venv/lib/python3.11/site-packages (from ray[rllib]) (0.23.2)\n",
      "Requirement already satisfied: scipy in ./.venv/lib/python3.11/site-packages (from ray[rllib]) (1.13.0)\n",
      "Requirement already satisfied: typer in ./.venv/lib/python3.11/site-packages (from ray[rllib]) (0.12.3)\n",
      "Requirement already satisfied: rich in ./.venv/lib/python3.11/site-packages (from ray[rllib]) (13.7.1)\n",
      "Requirement already satisfied: sympy in ./.venv/lib/python3.11/site-packages (from torch) (1.12)\n",
      "Requirement already satisfied: networkx in ./.venv/lib/python3.11/site-packages (from torch) (3.3)\n",
      "Requirement already satisfied: jinja2 in ./.venv/lib/python3.11/site-packages (from torch) (3.1.3)\n",
      "Requirement already satisfied: nvidia-cuda-nvrtc-cu12==12.1.105 in ./.venv/lib/python3.11/site-packages (from torch) (12.1.105)\n",
      "Requirement already satisfied: nvidia-cuda-runtime-cu12==12.1.105 in ./.venv/lib/python3.11/site-packages (from torch) (12.1.105)\n",
      "Requirement already satisfied: nvidia-cuda-cupti-cu12==12.1.105 in ./.venv/lib/python3.11/site-packages (from torch) (12.1.105)\n",
      "Requirement already satisfied: nvidia-cudnn-cu12==8.9.2.26 in ./.venv/lib/python3.11/site-packages (from torch) (8.9.2.26)\n",
      "Requirement already satisfied: nvidia-cublas-cu12==12.1.3.1 in ./.venv/lib/python3.11/site-packages (from torch) (12.1.3.1)\n",
      "Requirement already satisfied: nvidia-cufft-cu12==11.0.2.54 in ./.venv/lib/python3.11/site-packages (from torch) (11.0.2.54)\n",
      "Requirement already satisfied: nvidia-curand-cu12==10.3.2.106 in ./.venv/lib/python3.11/site-packages (from torch) (10.3.2.106)\n",
      "Requirement already satisfied: nvidia-cusolver-cu12==11.4.5.107 in ./.venv/lib/python3.11/site-packages (from torch) (11.4.5.107)\n",
      "Requirement already satisfied: nvidia-cusparse-cu12==12.1.0.106 in ./.venv/lib/python3.11/site-packages (from torch) (12.1.0.106)\n",
      "Requirement already satisfied: nvidia-nccl-cu12==2.19.3 in ./.venv/lib/python3.11/site-packages (from torch) (2.19.3)\n",
      "Requirement already satisfied: nvidia-nvtx-cu12==12.1.105 in ./.venv/lib/python3.11/site-packages (from torch) (12.1.105)\n",
      "Requirement already satisfied: triton==2.2.0 in ./.venv/lib/python3.11/site-packages (from torch) (2.2.0)\n",
      "Requirement already satisfied: nvidia-nvjitlink-cu12 in ./.venv/lib/python3.11/site-packages (from nvidia-cusolver-cu12==11.4.5.107->torch) (12.4.127)\n",
      "Requirement already satisfied: MarkupSafe>=2.0 in ./.venv/lib/python3.11/site-packages (from jinja2->torch) (2.1.5)\n",
      "Requirement already satisfied: attrs>=22.2.0 in ./.venv/lib/python3.11/site-packages (from jsonschema->ray[rllib]) (23.2.0)\n",
      "Requirement already satisfied: jsonschema-specifications>=2023.03.6 in ./.venv/lib/python3.11/site-packages (from jsonschema->ray[rllib]) (2023.12.1)\n",
      "Requirement already satisfied: referencing>=0.28.4 in ./.venv/lib/python3.11/site-packages (from jsonschema->ray[rllib]) (0.34.0)\n",
      "Requirement already satisfied: rpds-py>=0.7.1 in ./.venv/lib/python3.11/site-packages (from jsonschema->ray[rllib]) (0.18.0)\n",
      "Requirement already satisfied: python-dateutil>=2.8.2 in ./.venv/lib/python3.11/site-packages (from pandas->ray[rllib]) (2.9.0.post0)\n",
      "Requirement already satisfied: pytz>=2020.1 in ./.venv/lib/python3.11/site-packages (from pandas->ray[rllib]) (2024.1)\n",
      "Requirement already satisfied: tzdata>=2022.7 in ./.venv/lib/python3.11/site-packages (from pandas->ray[rllib]) (2024.1)\n",
      "Requirement already satisfied: charset-normalizer<4,>=2 in ./.venv/lib/python3.11/site-packages (from requests->ray[rllib]) (3.3.2)\n",
      "Requirement already satisfied: idna<4,>=2.5 in ./.venv/lib/python3.11/site-packages (from requests->ray[rllib]) (3.7)\n",
      "Requirement already satisfied: urllib3<3,>=1.21.1 in ./.venv/lib/python3.11/site-packages (from requests->ray[rllib]) (2.2.1)\n",
      "Requirement already satisfied: certifi>=2017.4.17 in ./.venv/lib/python3.11/site-packages (from requests->ray[rllib]) (2024.2.2)\n",
      "Requirement already satisfied: markdown-it-py>=2.2.0 in ./.venv/lib/python3.11/site-packages (from rich->ray[rllib]) (3.0.0)\n",
      "Requirement already satisfied: pygments<3.0.0,>=2.13.0 in ./.venv/lib/python3.11/site-packages (from rich->ray[rllib]) (2.17.2)\n",
      "Requirement already satisfied: pillow>=9.1 in ./.venv/lib/python3.11/site-packages (from scikit-image->ray[rllib]) (10.3.0)\n",
      "Requirement already satisfied: imageio>=2.33 in ./.venv/lib/python3.11/site-packages (from scikit-image->ray[rllib]) (2.34.0)\n",
      "Requirement already satisfied: tifffile>=2022.8.12 in ./.venv/lib/python3.11/site-packages (from scikit-image->ray[rllib]) (2024.4.18)\n",
      "Requirement already satisfied: lazy-loader>=0.4 in ./.venv/lib/python3.11/site-packages (from scikit-image->ray[rllib]) (0.4)\n",
      "Requirement already satisfied: mpmath>=0.19 in ./.venv/lib/python3.11/site-packages (from sympy->torch) (1.3.0)\n",
      "Requirement already satisfied: shellingham>=1.3.0 in ./.venv/lib/python3.11/site-packages (from typer->ray[rllib]) (1.5.4)\n",
      "Requirement already satisfied: mdurl~=0.1 in ./.venv/lib/python3.11/site-packages (from markdown-it-py>=2.2.0->rich->ray[rllib]) (0.1.2)\n",
      "Requirement already satisfied: six>=1.5 in ./.venv/lib/python3.11/site-packages (from python-dateutil>=2.8.2->pandas->ray[rllib]) (1.16.0)\n",
      "Note: you may need to restart the kernel to use updated packages.\n",
      "Looking in indexes: https://pypi.org/simple, https://pypi.nvidia.com\n",
      "Processing /home/user@AD/lab/EnergyPlus-Datasets\n",
      "  Installing build dependencies ... \u001b[?25ldone\n",
      "\u001b[?25h  Getting requirements to build wheel ... \u001b[?25ldone\n",
      "\u001b[?25h  Installing backend dependencies ... \u001b[?25ldone\n",
      "\u001b[?25h  Preparing metadata (pyproject.toml) ... \u001b[?25ldone\n",
      "\u001b[?25hBuilding wheels for collected packages: energyplus-datasets\n",
      "  Building wheel for energyplus-datasets (pyproject.toml) ... \u001b[?25ldone\n",
      "\u001b[?25h  Created wheel for energyplus-datasets: filename=energyplus_datasets-0.0.post1.dev4+g62b02ce-py3-none-any.whl size=41418456 sha256=5adc318c4a3a839021a49a8da8a723452a39aeb40d850250995530b9f78fd8f1\n",
      "  Stored in directory: /home/user@AD/.cache/pip/wheels/88/39/1e/b1aa4c7ad5539f662fdf9962d941f2eba2871b1a3167609511\n",
      "Successfully built energyplus-datasets\n",
      "Installing collected packages: energyplus-datasets\n",
      "  Attempting uninstall: energyplus-datasets\n",
      "    Found existing installation: energyplus-datasets 0.0.post1.dev4+g62b02ce\n",
      "    Uninstalling energyplus-datasets-0.0.post1.dev4+g62b02ce:\n",
      "      Successfully uninstalled energyplus-datasets-0.0.post1.dev4+g62b02ce\n",
      "Successfully installed energyplus-datasets-0.0.post1.dev4+g62b02ce\n",
      "Note: you may need to restart the kernel to use updated packages.\n"
     ]
    }
   ],
   "source": [
    "%pip install --extra-index-url https://test.pypi.org/simple ../EnergyPlus-OOEP/\n",
    "%pip install gymnasium ray[rllib] torch tqdm \n",
    "%pip install /home/user@AD/lab/EnergyPlus-Datasets/"
   ]
  },
  {
   "cell_type": "code",
   "execution_count": 2,
   "metadata": {
    "editable": true,
    "scrolled": true,
    "slideshow": {
     "slide_type": "subslide"
    },
    "tags": []
   },
   "outputs": [
    {
     "name": "stderr",
     "output_type": "stream",
     "text": [
      "/home/user@AD/lab/EnergyGym/.venv/lib/python3.11/site-packages/tqdm/auto.py:21: TqdmWarning: IProgress not found. Please update jupyter and ipywidgets. See https://ipywidgets.readthedocs.io/en/stable/user_install.html\n",
      "  from .autonotebook import tqdm as notebook_tqdm\n",
      "  0%|          | 0/100 [00:00<?, ?it/s]"
     ]
    },
    {
     "data": {
      "text/plain": [
       "<Task pending name='Task-5' coro=<Engine.run_forever() running at /home/user@AD/lab/EnergyGym/.venv/lib/python3.11/site-packages/energyplus/ooep/utils/awaitables.py:68>>"
      ]
     },
     "execution_count": 2,
     "metadata": {},
     "output_type": "execute_result"
    }
   ],
   "source": [
    "#import logging as _logging_\n",
    "#_logging_.basicConfig(level='INFO')\n",
    "#from energyplus.ooep.addons.logging import LogProvider\n",
    "\n",
    "from energyplus.ooep.addons.progress import ProgressProvider\n",
    "\n",
    "from energyplus.ooep import (\n",
    "    Simulator,\n",
    "    Model,\n",
    "    Weather,\n",
    "    Report,\n",
    ")\n",
    "\n",
    "from energyplus.dataset.basic import dataset as _epds_\n",
    "\n",
    "simulator = Simulator().add(\n",
    "    ProgressProvider(),\n",
    "    #LogProvider(),\n",
    ")\n",
    "\n",
    "simulator.awaitable.run_forever(\n",
    "    input=Simulator.InputSpecs(\n",
    "        model=(\n",
    "            _epds_.models / 'ASHRAE901_OfficeLarge_STD2019_Denver_Chiller205_Detailed.idf'\n",
    "        ),\n",
    "        weather=(_epds_.weathers / 'USA_CO_Denver-Aurora-Buckley.AFB.724695_TMY3.epw'),\n",
    "    ),\n",
    "    output=Simulator.OutputSpecs(\n",
    "        #report=('/tmp/ooep-report-9e1287d2-8e75-4cf5-bbc5-f76580b56a69'),\n",
    "    ),\n",
    "    options=Simulator.RuntimeOptions(\n",
    "        #design_day=True,\n",
    "    ),\n",
    ")"
   ]
  },
  {
   "cell_type": "markdown",
   "metadata": {},
   "source": [
    "method 1"
   ]
  },
  {
   "cell_type": "code",
   "execution_count": 3,
   "metadata": {},
   "outputs": [
    {
     "name": "stderr",
     "output_type": "stream",
     "text": [
      " 65%|██████▌   | 65.0/100 [01:13<00:03,  9.21it/s, Initializing New Environment Parameters]                                            "
     ]
    }
   ],
   "source": [
    "import energyplus.ooep as _ooep_\n",
    "\n",
    "try:\n",
    "    obs = simulator.variables.getdefault(\n",
    "        _ooep_.OutputVariable.Ref(\n",
    "            type='People Air Temperature',\n",
    "            key='CORE_MID',\n",
    "        )\n",
    "    ).value\n",
    "\n",
    "    simulator.variables.getdefault(\n",
    "        _ooep_.Actuator.Ref(\n",
    "            type='Zone Temperature Control',\n",
    "            control_type='Heating Setpoint',\n",
    "            key='CORE_MID',\n",
    "        )\n",
    "    ).value = 16\n",
    "    actuator = simulator.variables.getdefault(\n",
    "        _ooep_.Actuator.Ref(\n",
    "            type='Zone Temperature Control',\n",
    "            control_type='Heating Setpoint',\n",
    "            key='CORE_MID',\n",
    "        )\n",
    "    ).value \n",
    "    print(obs,actuator)\n",
    "except _ooep_.TemporaryUnavailableError:\n",
    "    pass"
   ]
  },
  {
   "cell_type": "markdown",
   "metadata": {},
   "source": [
    "method 2"
   ]
  },
  {
   "cell_type": "code",
   "execution_count": 4,
   "metadata": {},
   "outputs": [
    {
     "name": "stderr",
     "output_type": "stream",
     "text": [
      "2024-04-21 08:07:28,227\tINFO util.py:154 -- Missing packages: ['ipywidgets']. Run `pip install -U ipywidgets`, then restart the notebook server for rich notebook output.\n",
      "2024-04-21 08:07:29,142\tINFO util.py:154 -- Missing packages: ['ipywidgets']. Run `pip install -U ipywidgets`, then restart the notebook server for rich notebook output.\n"
     ]
    },
    {
     "data": {
      "text/plain": [
       "<energyplus.ooep.engines.simulators.Simulator at 0x7f6ba062a790>"
      ]
     },
     "execution_count": 4,
     "metadata": {},
     "output_type": "execute_result"
    }
   ],
   "source": [
    "import numpy as _numpy_\n",
    "import gymnasium as _gymnasium_\n",
    "\n",
    "from energyplus.ooep.addons.rl import (\n",
    "    VariableBox,\n",
    "    SimulatorEnv,\n",
    ")\n",
    "\n",
    "from energyplus.ooep import (\n",
    "    Actuator,\n",
    "    OutputVariable,\n",
    ")\n",
    "from energyplus.ooep.addons.rl.gymnasium import ThinEnv\n",
    "\n",
    "\n",
    "\n",
    "simulator.add(\n",
    "    thinenv := ThinEnv(\n",
    "        action_space=_gymnasium_.spaces.Dict({\n",
    "                    'thermostat': VariableBox(\n",
    "                        low=15., high=16.,\n",
    "                        dtype=_numpy_.float32,\n",
    "                        shape=(),\n",
    "                    ).bind(Actuator.Ref(\n",
    "                        type='Zone Temperature Control',\n",
    "                        control_type='Heating Setpoint',\n",
    "                        key='CORE_MID',\n",
    "                    ))\n",
    "                }),    \n",
    "        observation_space=_gymnasium_.spaces.Dict({\n",
    "            'temperature': VariableBox(\n",
    "                low=-_numpy_.inf, high=+_numpy_.inf,\n",
    "                dtype=_numpy_.float32,\n",
    "                shape=(),\n",
    "            ).bind(OutputVariable.Ref(\n",
    "                type='People Air Temperature',\n",
    "                key='CORE_MID',\n",
    "            )),\n",
    "        }),\n",
    "    )\n",
    ")\n"
   ]
  },
  {
   "cell_type": "code",
   "execution_count": 5,
   "metadata": {},
   "outputs": [],
   "source": [
    "# some test event\n",
    "#simulator.events.on('message', lambda event: print('🥳', event))"
   ]
  },
  {
   "cell_type": "code",
   "execution_count": 6,
   "metadata": {},
   "outputs": [
    {
     "data": {
      "text/plain": [
       "<energyplus.ooep.components.events.EventManager at 0x7f6ba04826d0>"
      ]
     },
     "execution_count": 6,
     "metadata": {},
     "output_type": "execute_result"
    }
   ],
   "source": [
    "def handler(__event):\n",
    "    global thinenv\n",
    "    obs = thinenv.observe()\n",
    "    # ... use the observation\n",
    "    #act = thinenv.act({'thermostat': 16. })\n",
    "    thinenv.act(\n",
    "        thinenv.action_space.sample()\n",
    "    )\n",
    "\n",
    "# event-driven control example\n",
    "simulator.events.on('begin_zone_timestep_after_init_heat_balance', handler)"
   ]
  },
  {
   "cell_type": "code",
   "execution_count": null,
   "metadata": {},
   "outputs": [],
   "source": []
  }
 ],
 "metadata": {
  "kernelspec": {
   "display_name": "Python 3 (ipykernel)",
   "language": "python",
   "name": "python3"
  },
  "language_info": {
   "codemirror_mode": {
    "name": "ipython",
    "version": 3
   },
   "file_extension": ".py",
   "mimetype": "text/x-python",
   "name": "python",
   "nbconvert_exporter": "python",
   "pygments_lexer": "ipython3",
   "version": "3.11.2"
  }
 },
 "nbformat": 4,
 "nbformat_minor": 4
}
