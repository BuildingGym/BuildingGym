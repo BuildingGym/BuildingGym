{
 "cells": [
  {
   "cell_type": "markdown",
   "metadata": {
    "slideshow": {
     "slide_type": "slide"
    }
   },
   "source": [
    "Kickstart the simulation."
   ]
  },
  {
   "cell_type": "code",
   "execution_count": null,
   "metadata": {
    "editable": true,
    "scrolled": true,
    "slideshow": {
     "slide_type": "subslide"
    },
    "tags": []
   },
   "outputs": [],
   "source": [
    "#import logging as _logging_\n",
    "#_logging_.basicConfig(level='INFO')\n",
    "#from energyplus.ooep.addons.logging import LogProvider\n",
    "\n",
    "from energyplus.ooep.addons.progress import ProgressProvider\n",
    "\n",
    "from energyplus.ooep import (\n",
    "    Simulator,\n",
    "    Model,\n",
    "    Weather,\n",
    "    Report,\n",
    ")\n",
    "\n",
    "from energyplus.dataset.basic import dataset as _epds_\n",
    "\n",
    "simulator = Simulator().add(\n",
    "    ProgressProvider(),\n",
    "    #LogProvider(),\n",
    ")\n",
    "\n",
    "simulator.awaitable.run_forever(\n",
    "    input=Simulator.InputSpecs(\n",
    "        model=(\n",
    "            _epds_.models / 'ASHRAE901_OfficeLarge_STD2019_Denver_Chiller205_Detailed.idf'\n",
    "        ),\n",
    "        weather=(_epds_.weathers / 'USA_CO_Denver-Aurora-Buckley.AFB.724695_TMY3.epw'),\n",
    "    ),\n",
    "    output=Simulator.OutputSpecs(\n",
    "        #report=('/tmp/ooep-report-9e1287d2-8e75-4cf5-bbc5-f76580b56a69'),\n",
    "    ),\n",
    "    options=Simulator.RuntimeOptions(\n",
    "        #design_day=True,\n",
    "    ),\n",
    ")"
   ]
  },
  {
   "cell_type": "markdown",
   "metadata": {},
   "source": [
    "method 1"
   ]
  },
  {
   "cell_type": "code",
   "execution_count": null,
   "metadata": {},
   "outputs": [],
   "source": [
    "import energyplus.ooep as _ooep_\n",
    "\n",
    "obs = simulator.variables.getdefault(\n",
    "    _ooep_.OutputVariable.Ref(\n",
    "        type='People Air Temperature',\n",
    "        key='CORE_MID',\n",
    "    )\n",
    ").value\n",
    "\n",
    "simulator.variables.getdefault(\n",
    "    _ooep_.Actuator.Ref(\n",
    "        type='Zone Temperature Control',\n",
    "        control_type='Heating Setpoint',\n",
    "        key='CORE_MID',\n",
    "    )\n",
    ").value = 16\n",
    "actuator = simulator.variables.getdefault(\n",
    "    _ooep_.Actuator.Ref(\n",
    "        type='Zone Temperature Control',\n",
    "        control_type='Heating Setpoint',\n",
    "        key='CORE_MID',\n",
    "    )\n",
    ").value \n",
    "print(obs,actuator)\n"
   ]
  },
  {
   "cell_type": "markdown",
   "metadata": {},
   "source": [
    "method 2"
   ]
  },
  {
   "cell_type": "code",
   "execution_count": null,
   "metadata": {},
   "outputs": [],
   "source": [
    "import numpy as _numpy_\n",
    "import gymnasium as _gymnasium_\n",
    "\n",
    "from energyplus.ooep.addons.rl import (\n",
    "    VariableBox,\n",
    "    SimulatorEnv,\n",
    ")\n",
    "\n",
    "from energyplus.ooep import (\n",
    "    Actuator,\n",
    "    OutputVariable,\n",
    ")\n",
    "from energyplus.ooep.addons.rl.gymnasium import ThinEnv\n",
    "\n",
    "simulator.add(\n",
    "    thinenv := ThinEnv(\n",
    "        action_space=_gymnasium_.spaces.Dict({\n",
    "                    'thermostat': VariableBox(\n",
    "                        low=15., high=16.,\n",
    "                        dtype=_numpy_.float32,\n",
    "                        shape=(),\n",
    "                    ).bind(Actuator.Ref(\n",
    "                        type='Zone Temperature Control',\n",
    "                        control_type='Heating Setpoint',\n",
    "                        key='CORE_MID',\n",
    "                    ))\n",
    "                }),    \n",
    "        observation_space=_gymnasium_.spaces.Dict({\n",
    "            'temperature': VariableBox(\n",
    "                low=-_numpy_.inf, high=+_numpy_.inf,\n",
    "                dtype=_numpy_.float32,\n",
    "                shape=(),\n",
    "            ).bind(OutputVariable.Ref(\n",
    "                type='People Air Temperature',\n",
    "                key='CORE_MID',\n",
    "            )),\n",
    "        }),\n",
    "    )\n",
    ")\n",
    "obs = thinenv.observe()\n",
    "act = thinenv.act({'thermostat': 16. })\n",
    "print(obs,act)"
   ]
  }
 ],
 "metadata": {
  "kernelspec": {
   "display_name": "Python 3 (ipykernel)",
   "language": "python",
   "name": "python3"
  },
  "language_info": {
   "codemirror_mode": {
    "name": "ipython",
    "version": 3
   },
   "file_extension": ".py",
   "mimetype": "text/x-python",
   "name": "python",
   "nbconvert_exporter": "python",
   "pygments_lexer": "ipython3",
   "version": "3.11.2"
  }
 },
 "nbformat": 4,
 "nbformat_minor": 4
}
