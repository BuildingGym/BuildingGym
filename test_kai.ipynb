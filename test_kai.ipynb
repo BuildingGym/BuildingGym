{
 "cells": [
  {
   "cell_type": "code",
   "execution_count": 5,
   "metadata": {
    "editable": true,
    "slideshow": {
     "slide_type": "skip"
    },
    "tags": []
   },
   "outputs": [
    {
     "name": "stdout",
     "output_type": "stream",
     "text": [
      "Looking in indexes: https://pypi.org/simple, https://pypi.nvidia.com\n",
      "Processing /home/user@AD/lab/EnergyPlus-Datasets\n",
      "  Installing build dependencies ... \u001b[?25ldone\n",
      "\u001b[?25h  Getting requirements to build wheel ... \u001b[?25ldone\n",
      "\u001b[?25h  Installing backend dependencies ... \u001b[?25ldone\n",
      "\u001b[?25h  Preparing metadata (pyproject.toml) ... \u001b[?25ldone\n",
      "\u001b[?25hBuilding wheels for collected packages: energyplus-datasets\n",
      "  Building wheel for energyplus-datasets (pyproject.toml) ... \u001b[?25ldone\n",
      "\u001b[?25h  Created wheel for energyplus-datasets: filename=energyplus_datasets-0.0.post1.dev4+g62b02ce-py3-none-any.whl size=41418456 sha256=507724d88d36d8d633637767cfa44e4266fc108ba76c5eb849cbe5c7ce4defc7\n",
      "  Stored in directory: /home/user@AD/.cache/pip/wheels/88/39/1e/b1aa4c7ad5539f662fdf9962d941f2eba2871b1a3167609511\n",
      "Successfully built energyplus-datasets\n",
      "Installing collected packages: energyplus-datasets\n",
      "Successfully installed energyplus-datasets-0.0.post1.dev4+g62b02ce\n",
      "Note: you may need to restart the kernel to use updated packages.\n"
     ]
    }
   ],
   "source": [
    "#%pip install --extra-index-url https://test.pypi.org/simple ../../EnergyPlus-OOEP/\n",
    "#%pip install --extra-index-url https://test.pypi.org/simple git+https://github.com/BuildingGym/EnergyPlus-OOEP\n",
    "#python3 -m pip install --extra-index-url https://test.pypi.org/simple git+https://github.com/BuildingGym/EnergyPlus-OOEP\n",
    "#%pip install ipywidgets tqdm gymnasium torch ray[rllib]\n",
    "#%pip install /home/user@AD/lab/EnergyPlus-Datasets/\n"
   ]
  },
  {
   "cell_type": "markdown",
   "metadata": {
    "slideshow": {
     "slide_type": "slide"
    }
   },
   "source": [
    "Kickstart the simulation."
   ]
  },
  {
   "cell_type": "code",
   "execution_count": 6,
   "metadata": {
    "editable": true,
    "scrolled": true,
    "slideshow": {
     "slide_type": "subslide"
    },
    "tags": []
   },
   "outputs": [
    {
     "data": {
      "application/vnd.jupyter.widget-view+json": {
       "model_id": "cd434e912a27449a8d4eb8c9b4bd83e0",
       "version_major": 2,
       "version_minor": 0
      },
      "text/plain": [
       "  0%|          | 0/100 [00:00<?, ?it/s]"
      ]
     },
     "metadata": {},
     "output_type": "display_data"
    },
    {
     "data": {
      "text/plain": [
       "<Task pending name='Task-5' coro=<Engine.run_forever() running at /home/user@AD/lab/EnergyGym/.venv/lib/python3.11/site-packages/energyplus/ooep/utils/awaitables.py:68>>"
      ]
     },
     "execution_count": 6,
     "metadata": {},
     "output_type": "execute_result"
    }
   ],
   "source": [
    "#import logging as _logging_\n",
    "#_logging_.basicConfig(level='INFO')\n",
    "#from energyplus.ooep.addons.logging import LogProvider\n",
    "\n",
    "from energyplus.ooep.addons.progress import ProgressProvider\n",
    "\n",
    "from energyplus.ooep import (\n",
    "    Simulator,\n",
    "    Model,\n",
    "    Weather,\n",
    "    Report,\n",
    ")\n",
    "\n",
    "from energyplus.dataset.basic import dataset as _epds_\n",
    "\n",
    "simulator = Simulator().add(\n",
    "    ProgressProvider(),\n",
    "    #LogProvider(),\n",
    ")\n",
    "\n",
    "simulator.awaitable.run_forever(\n",
    "    input=Simulator.InputSpecs(\n",
    "        model=(\n",
    "            _epds_.models / 'ASHRAE901_OfficeLarge_STD2019_Denver_Chiller205_Detailed.idf'\n",
    "        ),\n",
    "        weather=(_epds_.weathers / 'USA_CO_Denver-Aurora-Buckley.AFB.724695_TMY3.epw'),\n",
    "    ),\n",
    "    output=Simulator.OutputSpecs(\n",
    "        #report=('/tmp/ooep-report-9e1287d2-8e75-4cf5-bbc5-f76580b56a69'),\n",
    "    ),\n",
    "    options=Simulator.RuntimeOptions(\n",
    "        #design_day=True,\n",
    "    ),\n",
    ")"
   ]
  },
  {
   "cell_type": "markdown",
   "metadata": {},
   "source": [
    "method 1"
   ]
  },
  {
   "cell_type": "code",
   "execution_count": 7,
   "metadata": {},
   "outputs": [
    {
     "name": "stdout",
     "output_type": "stream",
     "text": [
      "24.713092250368426 16.0\n"
     ]
    }
   ],
   "source": [
    "import energyplus.ooep as _ooep_\n",
    "\n",
    "obs = simulator.variables.getdefault(\n",
    "    _ooep_.OutputVariable.Ref(\n",
    "        type='People Air Temperature',\n",
    "        key='CORE_MID',\n",
    "    )\n",
    ").value\n",
    "\n",
    "simulator.variables.getdefault(\n",
    "    _ooep_.Actuator.Ref(\n",
    "        type='Zone Temperature Control',\n",
    "        control_type='Heating Setpoint',\n",
    "        key='CORE_MID',\n",
    "    )\n",
    ").value = 16\n",
    "actuator = simulator.variables.getdefault(\n",
    "    _ooep_.Actuator.Ref(\n",
    "        type='Zone Temperature Control',\n",
    "        control_type='Heating Setpoint',\n",
    "        key='CORE_MID',\n",
    "    )\n",
    ").value \n",
    "print(obs,actuator)\n"
   ]
  },
  {
   "cell_type": "markdown",
   "metadata": {},
   "source": [
    "method 2"
   ]
  },
  {
   "cell_type": "code",
   "execution_count": 8,
   "metadata": {},
   "outputs": [
    {
     "ename": "ImportError",
     "evalue": "cannot import name 'VariableBox' from 'energyplus.ooep.addons.rl' (/home/user@AD/lab/EnergyGym/.venv/lib/python3.11/site-packages/energyplus/ooep/addons/rl/__init__.py)",
     "output_type": "error",
     "traceback": [
      "\u001b[0;31m---------------------------------------------------------------------------\u001b[0m",
      "\u001b[0;31mImportError\u001b[0m                               Traceback (most recent call last)",
      "Cell \u001b[0;32mIn[8], line 4\u001b[0m\n\u001b[1;32m      1\u001b[0m \u001b[38;5;28;01mimport\u001b[39;00m \u001b[38;5;21;01mnumpy\u001b[39;00m \u001b[38;5;28;01mas\u001b[39;00m \u001b[38;5;21;01m_numpy_\u001b[39;00m\n\u001b[1;32m      2\u001b[0m \u001b[38;5;28;01mimport\u001b[39;00m \u001b[38;5;21;01mgymnasium\u001b[39;00m \u001b[38;5;28;01mas\u001b[39;00m \u001b[38;5;21;01m_gymnasium_\u001b[39;00m\n\u001b[0;32m----> 4\u001b[0m \u001b[38;5;28;01mfrom\u001b[39;00m \u001b[38;5;21;01menergyplus\u001b[39;00m\u001b[38;5;21;01m.\u001b[39;00m\u001b[38;5;21;01mooep\u001b[39;00m\u001b[38;5;21;01m.\u001b[39;00m\u001b[38;5;21;01maddons\u001b[39;00m\u001b[38;5;21;01m.\u001b[39;00m\u001b[38;5;21;01mrl\u001b[39;00m \u001b[38;5;28;01mimport\u001b[39;00m (\n\u001b[1;32m      5\u001b[0m     VariableBox,\n\u001b[1;32m      6\u001b[0m     SimulatorEnv,\n\u001b[1;32m      7\u001b[0m )\n\u001b[1;32m      9\u001b[0m \u001b[38;5;28;01mfrom\u001b[39;00m \u001b[38;5;21;01menergyplus\u001b[39;00m\u001b[38;5;21;01m.\u001b[39;00m\u001b[38;5;21;01mooep\u001b[39;00m \u001b[38;5;28;01mimport\u001b[39;00m (\n\u001b[1;32m     10\u001b[0m     Actuator,\n\u001b[1;32m     11\u001b[0m     OutputVariable,\n\u001b[1;32m     12\u001b[0m )\n\u001b[1;32m     13\u001b[0m \u001b[38;5;28;01mfrom\u001b[39;00m \u001b[38;5;21;01menergyplus\u001b[39;00m\u001b[38;5;21;01m.\u001b[39;00m\u001b[38;5;21;01mooep\u001b[39;00m\u001b[38;5;21;01m.\u001b[39;00m\u001b[38;5;21;01maddons\u001b[39;00m\u001b[38;5;21;01m.\u001b[39;00m\u001b[38;5;21;01mrl\u001b[39;00m\u001b[38;5;21;01m.\u001b[39;00m\u001b[38;5;21;01mgymnasium\u001b[39;00m \u001b[38;5;28;01mimport\u001b[39;00m ThinEnv\n",
      "\u001b[0;31mImportError\u001b[0m: cannot import name 'VariableBox' from 'energyplus.ooep.addons.rl' (/home/user@AD/lab/EnergyGym/.venv/lib/python3.11/site-packages/energyplus/ooep/addons/rl/__init__.py)"
     ]
    }
   ],
   "source": [
    "import numpy as _numpy_\n",
    "import gymnasium as _gymnasium_\n",
    "\n",
    "from energyplus.ooep.addons.rl import (\n",
    "    VariableBox,\n",
    "    SimulatorEnv,\n",
    ")\n",
    "\n",
    "from energyplus.ooep import (\n",
    "    Actuator,\n",
    "    OutputVariable,\n",
    ")\n",
    "from energyplus.ooep.addons.rl.gymnasium import ThinEnv\n",
    "\n",
    "simulator.add(\n",
    "    thinenv := ThinEnv(\n",
    "        action_space=_gymnasium_.spaces.Dict({\n",
    "                    'thermostat': VariableBox(\n",
    "                        low=15., high=16.,\n",
    "                        dtype=_numpy_.float32,\n",
    "                        shape=(),\n",
    "                    ).bind(Actuator.Ref(\n",
    "                        type='Zone Temperature Control',\n",
    "                        control_type='Heating Setpoint',\n",
    "                        key='CORE_MID',\n",
    "                    ))\n",
    "                }),    \n",
    "        observation_space=_gymnasium_.spaces.Dict({\n",
    "            'temperature': VariableBox(\n",
    "                low=-_numpy_.inf, high=+_numpy_.inf,\n",
    "                dtype=_numpy_.float32,\n",
    "                shape=(),\n",
    "            ).bind(OutputVariable.Ref(\n",
    "                type='People Air Temperature',\n",
    "                key='CORE_MID',\n",
    "            )),\n",
    "        }),\n",
    "    )\n",
    ")\n",
    "obs = thinenv.observe()\n",
    "act = thinenv.act({'thermostat': 16. })\n",
    "print(obs,act)"
   ]
  }
 ],
 "metadata": {
  "kernelspec": {
   "display_name": "Python 3 (ipykernel)",
   "language": "python",
   "name": "python3"
  },
  "language_info": {
   "codemirror_mode": {
    "name": "ipython",
    "version": 3
   },
   "file_extension": ".py",
   "mimetype": "text/x-python",
   "name": "python",
   "nbconvert_exporter": "python",
   "pygments_lexer": "ipython3",
   "version": "3.11.2"
  }
 },
 "nbformat": 4,
 "nbformat_minor": 4
}
